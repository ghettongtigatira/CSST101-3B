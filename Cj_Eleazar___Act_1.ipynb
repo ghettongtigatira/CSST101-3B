{
  "nbformat": 4,
  "nbformat_minor": 0,
  "metadata": {
    "colab": {
      "provenance": [],
      "authorship_tag": "ABX9TyMiB37GU4UJivj5UOKu/RWZ",
      "include_colab_link": true
    },
    "kernelspec": {
      "name": "python3",
      "display_name": "Python 3"
    },
    "language_info": {
      "name": "python"
    }
  },
  "cells": [
    {
      "cell_type": "markdown",
      "metadata": {
        "id": "view-in-github",
        "colab_type": "text"
      },
      "source": [
        "<a href=\"https://colab.research.google.com/github/ghettongtigatira/CSST101-3B/blob/main/Cj_Eleazar___Act_1.ipynb\" target=\"_parent\"><img src=\"https://colab.research.google.com/assets/colab-badge.svg\" alt=\"Open In Colab\"/></a>"
      ]
    },
    {
      "cell_type": "code",
      "execution_count": null,
      "metadata": {
        "id": "WwR9K3HNJk6T"
      },
      "outputs": [],
      "source": [
        "# Import needed libraries\n",
        "import csv\n",
        "from datetime import datetime\n",
        "\n",
        "# ---------- Logic Functions ----------\n",
        "def impl(p, q):\n",
        "    return (not p) or q  # Implication (P -> Q)\n",
        "\n",
        "def tf(b: bool) -> str:\n",
        "    return \"T\" if b else \"F\"\n",
        "\n",
        "# ---------- Logger ----------\n",
        "def log_result(student_name, rule_name, result):\n",
        "    with open(\"logic_results.csv\", \"a\", newline=\"\") as file:\n",
        "        writer = csv.writer(file)\n",
        "        writer.writerow([datetime.now().strftime(\"%Y-%m-%d %H:%M:%S\"),\n",
        "                         student_name, rule_name, result])\n",
        "\n",
        "# ---------- Rule 1: Attendance ----------\n",
        "def attendance_rule(student_name):\n",
        "    print(\"\\n--- Attendance Rule Checker ---\")\n",
        "    late = input(\"Is the student late? (T/F): \").strip().upper() == \"T\"\n",
        "    excuse = input(\"Did the student bring an excuse letter? (T/F): \").strip().upper() == \"T\"\n",
        "\n",
        "    result = impl(late, excuse)\n",
        "    outcome = \"Satisfied ✅\" if result else \"Violated ❌\"\n",
        "\n",
        "    print(f\"P = ({tf(late)}) (Late), Q = ({tf(excuse)}) (Excuse Letter)\")\n",
        "    print(\"Result:\", outcome)\n",
        "\n",
        "    log_result(student_name, \"Attendance Rule\", outcome)"
      ]
    },
    {
      "cell_type": "code",
      "source": [
        "# ---------- Rule 2: Grading ----------\n",
        "def grading_rule(student_name):\n",
        "    print(\"\\n--- Grading Rule Checker ---\")\n",
        "    try:\n",
        "        grade = float(input(\"Enter student grade: \"))\n",
        "    except ValueError:\n",
        "        print(\"Invalid grade input.\")\n",
        "        return\n",
        "\n",
        "    P = grade >= 75\n",
        "    Q = grade >= 75\n",
        "    result = impl(P, Q)\n",
        "    outcome = \"Satisfied ✅\" if result else \"Violated ❌\"\n",
        "\n",
        "    print(f\"P = ({tf(P)}) (grade ≥ 75), Q = ({tf(Q)}) (student passes)\")\n",
        "    print(\"Result:\", outcome)\n",
        "\n",
        "    log_result(student_name, \"Grading Rule\", outcome)\n",
        "\n",
        "# ---------- Rule 3: Login System ----------\n",
        "def login_rule(student_name):\n",
        "    print(\"\\n--- Login Rule Checker ---\")\n",
        "    correct_password = \"admin123\"\n",
        "    attempt = input(\"Enter password: \")\n",
        "\n",
        "    P = (attempt == correct_password)\n",
        "    Q = (attempt == correct_password)\n",
        "    result = impl(P, Q)\n",
        "    outcome = \"Access granted ✅\" if result else \"Access denied ❌\"\n",
        "\n",
        "    print(f\"P = ({tf(P)}) (Password Correct), Q = ({tf(Q)}) (Access Granted)\")\n",
        "    print(\"Result:\", outcome)\n",
        "\n",
        "    log_result(student_name, \"Login Rule\", outcome)"
      ],
      "metadata": {
        "id": "vOkFnW_1J0GO"
      },
      "execution_count": null,
      "outputs": []
    },
    {
      "cell_type": "code",
      "source": [
        "# ---------- Rule 4: Bonus Points ----------\n",
        "def bonus_rule(student_name):\n",
        "    print(\"\\n--- Bonus Points Eligibility Checker ---\")\n",
        "    regular = input(\"Does the student have regular attendance? (T/F): \").strip().upper() == \"T\"\n",
        "    bonus = input(\"Is the student eligible for bonus points? (T/F): \").strip().upper() == \"T\"\n",
        "\n",
        "    result = impl(regular, bonus)\n",
        "    outcome = \"Satisfied ✅\" if result else \"Violated ❌\"\n",
        "\n",
        "    print(f\"P = ({tf(regular)}) (Regular Attendance), Q = ({tf(bonus)}) (Bonus Eligible)\")\n",
        "    print(\"Result:\", outcome)\n",
        "\n",
        "    log_result(student_name, \"Bonus Rule\", outcome)\n",
        "\n",
        "# ---------- Main Menu ----------\n",
        "def main():\n",
        "    print(\"=== University Logic Rules System ===\")\n",
        "    student_name = input(\"Enter student name: \").strip()\n",
        "\n",
        "    while True:\n",
        "        print(\"\\n================================\")\n",
        "        print(\" Main Menu\")\n",
        "        print(\"================================\")\n",
        "        print(\"1) Attendance Rule Checker\")\n",
        "        print(\"2) Grading Rule Checker\")\n",
        "        print(\"3) Login Rule Checker\")\n",
        "        print(\"4) Bonus Points Checker\")\n",
        "        print(\"5) Exit\")\n",
        "\n",
        "        choice = input(\"Choose an option (1-5): \").strip()\n",
        "\n",
        "        if choice == \"1\":\n",
        "            attendance_rule(student_name)\n",
        "        elif choice == \"2\":\n",
        "            grading_rule(student_name)\n",
        "        elif choice == \"3\":\n",
        "            login_rule(student_name)\n",
        "        elif choice == \"4\":\n",
        "            bonus_rule(student_name)\n",
        "        elif choice == \"5\":\n",
        "            print(\"Exiting... Results saved to logic_results.csv\")\n",
        "            break\n",
        "        else:\n",
        "            print(\"Invalid choice. Try again. Please select 1-5.\")\n",
        "\n",
        "if __name__ == \"__main__\":\n",
        "  #Create CSV with headers if not exists\n",
        "  with open(\"logic_results.csv\", \"a\", newline=\"\") as file:\n",
        "    writer = csv.writer(file)\n",
        "    if file.tell() == 0: #only write header if file is empty\n",
        "      writer.writerow([\"Timestamp\", \"Student Name\", \"Rule\", \"Result\"])\n",
        "\n",
        "# Run the program\n",
        "main()"
      ],
      "metadata": {
        "colab": {
          "base_uri": "https://localhost:8080/"
        },
        "id": "w9oQV0fFJ3V8",
        "outputId": "83f394fc-6ade-4cc4-e9b5-9b2c3eb8aa58"
      },
      "execution_count": null,
      "outputs": [
        {
          "output_type": "stream",
          "name": "stdout",
          "text": [
            "=== University Logic Rules System ===\n",
            "Enter student name: CJ Eleazar\n",
            "\n",
            "================================\n",
            " Main Menu\n",
            "================================\n",
            "1) Attendance Rule Checker\n",
            "2) Grading Rule Checker\n",
            "3) Login Rule Checker\n",
            "4) Bonus Points Checker\n",
            "5) Exit\n",
            "Choose an option (1-5): 4\n",
            "\n",
            "--- Bonus Points Eligibility Checker ---\n",
            "Does the student have regular attendance? (T/F): T\n",
            "Is the student eligible for bonus points? (T/F): T\n",
            "P = (T) (Regular Attendance), Q = (T) (Bonus Eligible)\n",
            "Result: Satisfied ✅\n",
            "\n",
            "================================\n",
            " Main Menu\n",
            "================================\n",
            "1) Attendance Rule Checker\n",
            "2) Grading Rule Checker\n",
            "3) Login Rule Checker\n",
            "4) Bonus Points Checker\n",
            "5) Exit\n",
            "Choose an option (1-5): 5\n",
            "Exiting... Results saved to logic_results.csv\n"
          ]
        }
      ]
    }
  ]
}